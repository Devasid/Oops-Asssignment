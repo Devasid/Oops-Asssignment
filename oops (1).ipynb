{
  "nbformat": 4,
  "nbformat_minor": 0,
  "metadata": {
    "colab": {
      "provenance": []
    },
    "kernelspec": {
      "name": "python3",
      "display_name": "Python 3"
    },
    "language_info": {
      "name": "python"
    }
  },
  "cells": [
    {
      "cell_type": "markdown",
      "source": [
        "Assignment Answers\n",
        "\n"
      ],
      "metadata": {
        "id": "6YjJwk3yl5cn"
      }
    },
    {
      "cell_type": "markdown",
      "source": [
        "Q-1 What is Object-Oriented Programming (OOP) ?"
      ],
      "metadata": {
        "id": "9kcVvAfCm9aB"
      }
    },
    {
      "cell_type": "markdown",
      "source": [
        "> Object-Oriented Programming (OOP) is a programming paradigm that organizes software design around objects rather than functions and logic. An object is a self-contained unit that bundles data (attributes or properties) and the behaviors that act on that data (methods).\n",
        "\n",
        ">This approach mirrors how we perceive the real world, where objects like a \"car\" have attributes (color, brand, speed) and can perform actions (accelerate, brake, turn). In OOP, a Car object would contain variables for its color and brand and methods like accelerate() and brake()."
      ],
      "metadata": {
        "id": "-OUJu0-xnAJf"
      }
    },
    {
      "cell_type": "markdown",
      "source": [
        "Q-2  What is a class in OOP?"
      ],
      "metadata": {
        "id": "KDWQ7LJMnbeL"
      }
    },
    {
      "cell_type": "markdown",
      "source": [
        ">oriented programming (OOP), a class is a blueprint or a template for creating objects. It's not an actual object itself, but rather a logical structure that defines the common attributes (data) and methods (behaviors) that all objects of that class will possess.\n",
        "\n",
        ">class-The blueprint. It's a definition that outlines the structure and behavior. For example, a Car class would define that all cars have attributes like color and speed, and methods like accelerate() and brake(). No memory is allocated for a class itself.\n"
      ],
      "metadata": {
        "id": "lQvcZtuHneve"
      }
    },
    {
      "cell_type": "markdown",
      "source": [
        "Q-3 What is an object in OOP?"
      ],
      "metadata": {
        "id": "BmhGSv62n0NZ"
      }
    },
    {
      "cell_type": "markdown",
      "source": [
        ">In OOP, an object is a specific instance of a class. It's a fundamental, self-contained unit that combines data (its state or properties) and the methods (its behavior) that operate on that data. While a class is a blueprint, an object is the tangible, real-world entity created from that blueprint."
      ],
      "metadata": {
        "id": "Tj6hLQ1Dn2rP"
      }
    },
    {
      "cell_type": "markdown",
      "source": [
        "Q-4  What is the difference between abstraction and encapsulation?\n",
        "\n"
      ],
      "metadata": {
        "id": "XPrhOaT0oBu6"
      }
    },
    {
      "cell_type": "markdown",
      "source": [
        ">Abstraction:- Abstraction is the process of hiding complex implementation details and showing only the essential features of an object. It provides a simplified, high-level view of a system. Think of a TV remote control. You use the buttons to change channels, adjust the volume, and power the TV on or off. You don't need to know about the intricate electronic circuits inside the remote or how it communicates with the TV. The remote is an abstraction—it presents a simple interface that hides all the underlying complexity.In programming, abstraction is achieved using abstract classes and interfaces. They define a blueprint of methods that must be implemented by concrete classes, but they don't provide the actual implementation. This allows you to design a system based on what objects should do, without getting bogged down in how they will do it.\n",
        "\n",
        ">Encapsulation:- Encapsulation is the practice of bundling data (variables) and the methods (functions) that operate on that data into a single unit, typically a class. It's a protective wrapper that prevents direct access to the data from outside the class. Instead, data can only be accessed or modified through the class's public methods, often called \"getters\" and \"setters\".The main goal of encapsulation is data hiding. By making the data private, you ensure its integrity and prevent it from being accidentally or maliciously changed by external code. For example, a Car class might have a private speed variable. You wouldn't want other parts of the program to directly change the speed to a negative number or an absurdly high value. Instead, you'd provide a setSpeed() method that includes validation logic to ensure the new speed is within a valid range. This secures the data and makes the code more robust.\n",
        "\n"
      ],
      "metadata": {
        "id": "kZDipU0MoTOT"
      }
    },
    {
      "cell_type": "markdown",
      "source": [
        "Q5 - What are dunder methods in Python?"
      ],
      "metadata": {
        "id": "eWhZoJk3ofyP"
      }
    },
    {
      "cell_type": "markdown",
      "source": [
        ">Dunder methods in Python are special methods with names that start and end with two underscores, like __init__ or __str__. The \"dunder\" is a shorthand for \"double underscore.\"\n",
        "\n",
        "     example== * __init__(self,....)\n",
        "               * __str__(self):\n"
      ],
      "metadata": {
        "id": "rFbib3iyokiP"
      }
    },
    {
      "cell_type": "markdown",
      "source": [
        "Q-6  Explain the concept of inheritance in Oop?"
      ],
      "metadata": {
        "id": "NjQj4HO-o-Zv"
      }
    },
    {
      "cell_type": "markdown",
      "source": [
        ">Inheritance is a fundamental concept in object-oriented programming (OOP) that allows a new class to reuse, extend, and modify the properties and behaviors of an existing class. It's a way of modeling a hierarchical \"is-a\" relationship between classes.\n",
        "\n",
        ">The class that is inherited from is called the superclass, parent class, or base class. The new class that inherits is called the subclass, child class, or derived class."
      ],
      "metadata": {
        "id": "CcO2On6oo_Kd"
      }
    },
    {
      "cell_type": "markdown",
      "source": [
        "Q-7 What is polymorphism in OOP?"
      ],
      "metadata": {
        "id": "mCnFsbFxpKwi"
      }
    },
    {
      "cell_type": "markdown",
      "source": [
        ">Polymorphism, one of the four pillars of OOP, means \"many forms.\" It allows a single interface, function, or operator to behave differently based on the data type or class it's acting upon. This makes your code more flexible, reusable, and readable.\n",
        "\n",
        ">A simple example is the built-in len() function in Python. It can find the length of a string, a list, or a dictionary, even though these are different data types.  The function itself doesn't change; its behavior adapts to the object it's given.\n",
        "\n"
      ],
      "metadata": {
        "id": "70YLPQIzpREa"
      }
    },
    {
      "cell_type": "markdown",
      "source": [
        " Q-8  How is encapsulation achieved in Python?"
      ],
      "metadata": {
        "id": "7MyB1t49pZ8v"
      }
    },
    {
      "cell_type": "markdown",
      "source": [
        ">Encapsulation is achieved in Python by using name mangling to make attributes \"private,\" which is a convention for restricting direct access to an object's data. Unlike some other languages, Python doesn't have a strict concept of private or protected members. Instead, it relies on a set of conventions and a name-mangling feature to enforce encapsulation."
      ],
      "metadata": {
        "id": "VvbbaqdspdxL"
      }
    },
    {
      "cell_type": "markdown",
      "source": [
        "Q-9 What is a constructor in Python?\n"
      ],
      "metadata": {
        "id": "E3LMctkCpi-J"
      }
    },
    {
      "cell_type": "markdown",
      "source": [
        "A constructor in Python is a special method used to initialize an object's state when it is created. It is automatically called when you instantiate a class, and its primary purpose is to set up the new object by assigning initial values to its attributes.\n",
        "\n",
        "       method:- __init__"
      ],
      "metadata": {
        "id": "9KjFw0e3poUP"
      }
    },
    {
      "cell_type": "markdown",
      "source": [
        "Q-10 What are class and static methods in Python?\n"
      ],
      "metadata": {
        "id": "GmhvuuaEpubQ"
      }
    },
    {
      "cell_type": "markdown",
      "source": [
        ">Class and static methods in Python are both types of methods that are defined within a class but behave differently from instance methods. While an instance method requires an object of the class to be called and receives self (the instance) as its first argument, class and static methods don't need an instance.\n",
        "\n",
        ">>Class Method:-A class method is bound to the class itself, not to an instance of the class. It receives the class as its first argument, conventionally named cls, instead of self. Class methods are defined using the @classmethod decorator.\n",
        "\n",
        ">>static method:-A static method is not bound to either the class or its instance. It's just a regular function that happens to be inside a class's namespace. It doesn't receive self or cls as its first argument. Static methods are defined using the @staticmethod decorator."
      ],
      "metadata": {
        "id": "wuF4TXGepwCA"
      }
    },
    {
      "cell_type": "markdown",
      "source": [
        "Q-11  What is method overloading in Python?"
      ],
      "metadata": {
        "id": "4MJNmV3Ep6G2"
      }
    },
    {
      "cell_type": "markdown",
      "source": [
        ">Method overloading is the ability to define multiple methods within the same class with the same name but different signatures, typically by having a different number or type of parameters. Python does not support method overloading in the same way as languages like Java or C++.\n",
        "  \n",
        ">When you define multiple methods with the same name in a Python class, the last one defined will overwrite all the previous ones. Python's dynamic typing means it doesn't need to know the data type of the arguments at compile time. It simply looks for a method with a specific name, and if it finds one, it calls it."
      ],
      "metadata": {
        "id": "XJHtZ2D-p9FL"
      }
    },
    {
      "cell_type": "markdown",
      "source": [
        "Q-12 What is method overriding in OOP?"
      ],
      "metadata": {
        "id": "-TIumGk0qGTC"
      }
    },
    {
      "cell_type": "markdown",
      "source": [
        "Method overriding is an OOP concept where a subclass provides its own specific implementation for a method that is already defined in its parent class. This allows a child class to change the behavior it inherits from its parent, providing a different functionality while keeping the same method name and signature."
      ],
      "metadata": {
        "id": "OwePhNYnqJfr"
      }
    },
    {
      "cell_type": "markdown",
      "source": [
        "Q-13  What is a property decorator in Python?"
      ],
      "metadata": {
        "id": "E8iDjwjzr39M"
      }
    },
    {
      "cell_type": "markdown",
      "source": [
        ">A property decorator in Python is a way to create properties within a class. It allows you to define methods that can be accessed like attributes, providing a cleaner, more \"Pythonic\" interface for getting, setting, or deleting an attribute's value. This is a key tool for achieving encapsulation in Python.\n",
        "\n"
      ],
      "metadata": {
        "id": "UN_u0lWbr6Dh"
      }
    },
    {
      "cell_type": "markdown",
      "source": [
        "Q-14  Why is polymorphism important in OOP?\n"
      ],
      "metadata": {
        "id": "UW-FvNvKqVbu"
      }
    },
    {
      "cell_type": "markdown",
      "source": [
        ">Polymorphism is crucial in OOP because it promotes flexibility, reusability, and maintainability in code. It allows you to write more generic and robust code that can work with objects of different classes that share a common interface.\n",
        "\n",
        ">Reason for importans:\n",
        ">>Code Reusability: Polymorphism allows you to write functions and methods that can operate on a range of different objects, rather than having to write separate code for each object type. For example, you can create a draw_shape() function that works for a Circle, a Square, and a Triangle, as long as all these objects have a draw() method. This avoids code duplication and makes your system more efficient.\n",
        "\n",
        ">>Flexibility and Extensibility:With polymorphism, you can easily extend your system without having to modify existing code. If you add a new class (like Star) that inherits from the same parent and implements the draw() method, your draw_shape() function will automatically work with the new Star object without any changes. This makes your codebase more adaptable to new features and changes."
      ],
      "metadata": {
        "id": "B6rVeCjrqXpO"
      }
    },
    {
      "cell_type": "markdown",
      "source": [
        "Q-15  What is an abstract class in Python?\n"
      ],
      "metadata": {
        "id": "oPG8v8YGqqk3"
      }
    },
    {
      "cell_type": "markdown",
      "source": [
        "An abstract class is a blueprint for other classes, containing one or more abstract methods. You can't create an instance of an abstract class; you must inherit from it to create a concrete class. Abstract methods are declared but don't have an implementation, forcing subclasses to provide their own."
      ],
      "metadata": {
        "id": "uWAyRLV8qtFJ"
      }
    },
    {
      "cell_type": "markdown",
      "source": [
        "Q-16  What are the advantages of OOP?"
      ],
      "metadata": {
        "id": "c9BKMwC7qxC_"
      }
    },
    {
      "cell_type": "markdown",
      "source": [
        ">he primary advantages of object-oriented programming (OOP) are code reusability, modularity, and scalability. It models real-world entities as objects, making it a natural way to design software.\n",
        "\n",
        ">Advantages:\n",
        "\n",
        ">>Code Reusability:  OOP allows you to create classes that can be reused in different parts of a program or in new projects. Through inheritance, a new class can inherit and extend the properties and behaviors of an existing one, which saves time and effort.\n",
        "\n",
        ">>Modularity: Objects are self-contained, independent units with their own data and behavior. This makes a program's structure more organized and easier to understand. If you need to fix a bug or change a feature, you can often do so within a single object without affecting the rest of the code. This is a core benefit of encapsulation.\n",
        "\n",
        ">>Flexibility and Extensibility: Polymorphism allows you to design systems that are flexible and easy to extend. New features or objects can be added without having to change existing code, as long as they adhere to the common interface. This makes a system more adaptable to change and growth."
      ],
      "metadata": {
        "id": "8Or0xWqjqy6C"
      }
    },
    {
      "cell_type": "markdown",
      "source": [
        "Q-17 What is the difference between a class variable and an instance variable?\n"
      ],
      "metadata": {
        "id": "06eBK8xlrDRx"
      }
    },
    {
      "cell_type": "markdown",
      "source": [
        ">Class Variables:- A class variable is declared inside the class but outside of any method. Because it's shared, all objects of that class have access to the same value. Changes made to a class variable by one instance will be reflected in all other instances. They're typically used for data that is constant across all objects of a class, such as a counter for the number of objects created or a default value.\n",
        "\n",
        ">Instance Variables: An instance variable is defined inside a method, usually the __init__ constructor, using the self keyword. Each instance has its own copy of the variable, so changes made to it in one instance do not affect other instances. They are used to store data that is unique to each object."
      ],
      "metadata": {
        "id": "mlyoGQIWrGCr"
      }
    },
    {
      "cell_type": "markdown",
      "source": [
        "Q-18 What is multiple inheritance in Python?\n"
      ],
      "metadata": {
        "id": "rVLM6wSNrNBl"
      }
    },
    {
      "cell_type": "markdown",
      "source": [
        ">Multiple inheritance is an object-oriented programming feature that allows a class to inherit from more than one parent class. This enables the child class to combine the attributes and methods of all its parent classes, creating a single, cohesive unit from multiple sources."
      ],
      "metadata": {
        "id": "x_fLCt1yrQCH"
      }
    },
    {
      "cell_type": "markdown",
      "source": [
        "Q-19  Explain the purpose of ‘’__str__’ and ‘__repr__’ ‘ methods in Python."
      ],
      "metadata": {
        "id": "6yCTyGpBrT5_"
      }
    },
    {
      "cell_type": "markdown",
      "source": [
        ">__str__\n",
        "\n",
        "  The __str__ method returns a human-readable string representation of an object. It's meant to be used for end-users or for display purposes, such as with the print() function or the str() built-in. The goal is to produce a readable, concise output that summarizes the object's state in a friendly way. If __str__ is not defined, Python falls back to __repr__.\n",
        "\n",
        "\n",
        ">__repr__\n",
        "  \n",
        "  The __repr__ method returns an unambiguous, developer-oriented string representation. It's primarily used for debugging and logging. The goal is to return a string that, if passed to eval(), would create the same object. Think of it as a detailed, technical representation of the object's state."
      ],
      "metadata": {
        "id": "gFJ4JwmNrZZh"
      }
    },
    {
      "cell_type": "markdown",
      "source": [
        "Q-20 is the significance of the ‘super()’ function in Python?"
      ],
      "metadata": {
        "id": "PSvbh-Y6rpAq"
      }
    },
    {
      "cell_type": "markdown",
      "source": [
        ">The super() function in Python is a built-in function that provides a way to call a method from the parent (superclass) in a class hierarchy. Its primary purpose is to ensure that a child class, when overriding a method, can still leverage the functionality of the parent's version of that same method, rather than having to rewrite all the inherited logic."
      ],
      "metadata": {
        "id": "cMSK_UYMrtFq"
      }
    },
    {
      "cell_type": "markdown",
      "source": [
        "Q-21 What is the significance of the __del__ method in Python?"
      ],
      "metadata": {
        "id": "W1mN4Apmr6h2"
      }
    },
    {
      "cell_type": "markdown",
      "source": [
        ">he __del__ method, also known as the destructor, is a special method in Python that is called when an object is about to be \"destroyed\" or garbage-collected. Its primary purpose is to perform cleanup actions\n",
        "\n",
        ">How it works: Unlike a constructor, which is called when an object is created, the __del__ method is invoked when the reference count of an object drops to zero, meaning there are no more variables or data structures pointing to it. The garbage collector then reclaims the memory used by that object.\n",
        "\n"
      ],
      "metadata": {
        "id": "Jjom-z5TsALp"
      }
    },
    {
      "cell_type": "markdown",
      "source": [
        "Q-22 What is the difference between @staticmethod and @classmethod in Python?"
      ],
      "metadata": {
        "id": "ZfLmtJUIsQ1V"
      }
    },
    {
      "cell_type": "markdown",
      "source": [
        "Difference between @staticmethod and @class method:\n",
        "\n",
        "> @staticmethod:- A static method is essentially a regular function that is logically grouped with a class. It can't access or modify the class state or the instance state. It's often used for utility functions that are related to the class but don't depend on any of the class's or instance's data.\n",
        "\n",
        ">@classmethod:- A class method is bound to the class and can access and modify class-level attributes, which are shared by all instances. It's defined with @classmethod and receives the class itself, conventionally named cls, as its first argument.\n",
        "\n"
      ],
      "metadata": {
        "id": "-wy0OLaqsT1O"
      }
    },
    {
      "cell_type": "markdown",
      "source": [
        "Q-23  How does polymorphism work in Python with inheritance?"
      ],
      "metadata": {
        "id": "kyYQCkpmsZoq"
      }
    },
    {
      "cell_type": "markdown",
      "source": [
        ">Polymorphism works with inheritance in Python by allowing methods in a subclass to override methods in a parent class. This enables objects of different classes that share a common superclass to be treated interchangeably, responding in their own unique way to the same method call.\n",
        "\n",
        "Example in Python:\n",
        "            \n",
        "     class Animal:\n",
        "       def speak(self):\n",
        "            raise NotImplementedError(\"Subclass must implement abstract method\")\n",
        "            \n",
        "     class Dog(Animal):\n",
        "       def speak(self):\n",
        "           return \"Woof!\"\n",
        "\n",
        "     class Cat(Animal):\n",
        "       def speak(self):\n",
        "            return \"Meow!\"\n",
        "\n",
        "     animals = [Dog(), Cat()]\n",
        "\n",
        "     for animal in animals:\n",
        "         print(animal.speak()) # The correct speak() method is called for each object.\n",
        "\n"
      ],
      "metadata": {
        "id": "t3v7afWWscY3"
      }
    },
    {
      "cell_type": "markdown",
      "source": [
        "Que 24- What is method chaining in Python OOP?\n"
      ],
      "metadata": {
        "id": "9jxf22NKAceO"
      }
    },
    {
      "cell_type": "markdown",
      "source": [
        ">Method chaining is a programming technique that allows you to call multiple methods on an object in a single, sequential line of code. This is possible when each method returns a reference to the same object on which the next method is called, allowing the calls to be \"chained\" together."
      ],
      "metadata": {
        "id": "umsJ5Bs9AiFV"
      }
    },
    {
      "cell_type": "markdown",
      "source": [
        "Q-25  What is the purpose of the __call__ method in Python?\n"
      ],
      "metadata": {
        "id": "iUhxEjSKAniD"
      }
    },
    {
      "cell_type": "markdown",
      "source": [
        ">The __call__ method in Python lets you make an object callable, just like a function. If a class has a __call__ method, you can call an instance of that class using parentheses ()."
      ],
      "metadata": {
        "id": "Uy6o4sedArkU"
      }
    },
    {
      "cell_type": "markdown",
      "source": [
        "Practical Question"
      ],
      "metadata": {
        "id": "ZGgCBUtUAuvh"
      }
    },
    {
      "cell_type": "markdown",
      "source": [
        "Q-1 Create a parent class Animal with a method speak() that prints a generic message. Create a child class Dog\n",
        "that overrides the speak() method to print \"Bark!\"."
      ],
      "metadata": {
        "id": "30F7PQ8zAzVC"
      }
    },
    {
      "cell_type": "code",
      "source": [
        "# The parent class, Animal, with a generic speak method.\n",
        "class Animal:\n",
        "    \"\"\"\n",
        "    A generic animal class with a method for speaking.\n",
        "    \"\"\"\n",
        "    def speak(self):\n",
        "        \"\"\"\n",
        "        Prints a generic message about the animal speaking.\n",
        "        \"\"\"\n",
        "        print(\"The animal makes a sound.\")\n",
        "# The child class, Dog, which inherits from Animal.\n",
        "# It overrides the speak method to provide a more specific message.\n",
        "class Dog(Animal):\n",
        "    \"\"\"\n",
        "    A specific dog class that inherits from Animal and overrides the speak method.\n",
        "    \"\"\"\n",
        "    def speak(self):\n",
        "        \"\"\"\n",
        "        Prints a specific message for a dog's sound.\n",
        "        \"\"\"\n",
        "        print(\"Bark!\")\n",
        "\n",
        "# Create an instance of the Animal class\n",
        "generic_animal = Animal()\n",
        "# Call the speak method on the Animal instance\n",
        "print(\"Calling speak() on the generic Animal:\")\n",
        "generic_animal.speak()\n",
        "\n",
        "print(\"-\" * 20)\n",
        "\n",
        "# Create an instance of the Dog class\n",
        "my_dog = Dog()\n",
        "# Call the speak method on the Dog instance.\n",
        "# This will call the overridden method from the Dog class.\n",
        "print(\"Calling speak() on the Dog:\")\n",
        "my_dog.speak()"
      ],
      "metadata": {
        "colab": {
          "base_uri": "https://localhost:8080/"
        },
        "id": "wOmIaMEYA6Y-",
        "outputId": "19b05048-28a5-4511-c232-4f92620ab212"
      },
      "execution_count": null,
      "outputs": [
        {
          "output_type": "stream",
          "name": "stdout",
          "text": [
            "Calling speak() on the generic Animal:\n",
            "The animal makes a sound.\n",
            "--------------------\n",
            "Calling speak() on the Dog:\n",
            "Bark!\n"
          ]
        }
      ]
    },
    {
      "cell_type": "markdown",
      "source": [
        "Q-2  Write a program to create an abstract class Shape with a method area(). Derive classes Circle and Rectangle\n",
        "from it and implement the area() method in both"
      ],
      "metadata": {
        "id": "q8NqR9rUBU_r"
      }
    },
    {
      "cell_type": "code",
      "source": [
        "from abc import ABC, abstractmethod\n",
        "import math\n",
        "\n",
        "# Abstract base class\n",
        "class Shape(ABC):\n",
        "    @abstractmethod\n",
        "    def area(self):\n",
        "        pass\n",
        "\n",
        "# Derived class: Circle\n",
        "class Circle(Shape):\n",
        "    def __init__(self, radius):\n",
        "        self.radius = radius\n",
        "\n",
        "    def area(self):\n",
        "        return math.pi * self.radius ** 2\n",
        "\n",
        "# Derived class: Rectangle\n",
        "class Rectangle(Shape):\n",
        "    def __init__(self, width, height):\n",
        "        self.width = width\n",
        "        self.height = height\n",
        "\n",
        "    def area(self):\n",
        "        return self.width * self.height\n",
        "\n",
        "# Testing the classes\n",
        "if __name__ == \"__main__\":\n",
        "    c = Circle(5)\n",
        "    r = Rectangle(4, 6)\n",
        "\n",
        "    print(f\"Area of Circle: {c.area():.2f}\")\n",
        "    print(f\"Area of Rectangle: {r.area():.2f}\")"
      ],
      "metadata": {
        "colab": {
          "base_uri": "https://localhost:8080/"
        },
        "id": "tmy0zgtwBYPL",
        "outputId": "8a44f581-0a5f-4112-9933-d678e23b8885"
      },
      "execution_count": 1,
      "outputs": [
        {
          "output_type": "stream",
          "name": "stdout",
          "text": [
            "Area of Circle: 78.54\n",
            "Area of Rectangle: 24.00\n"
          ]
        }
      ]
    },
    {
      "cell_type": "markdown",
      "source": [
        "Q-3 Implement a multi-level inheritance scenario where a class Vehicle has an attribute type. Derive a class Car\n",
        "and further derive a class ElectricCar that adds a battery attribute."
      ],
      "metadata": {
        "id": "iCRnO2lmBrIR"
      }
    },
    {
      "cell_type": "code",
      "source": [
        "# Base class\n",
        "class Vehicle:\n",
        "    def __init__(self, vehicle_type):\n",
        "        self.type = vehicle_type\n",
        "\n",
        "    def display_info(self):\n",
        "        print(f\"Vehicle Type: {self.type}\")\n",
        "\n",
        "# First-level derived class\n",
        "class Car(Vehicle):\n",
        "    def __init__(self, vehicle_type, brand):\n",
        "        super().__init__(vehicle_type)\n",
        "        self.brand = brand\n",
        "\n",
        "    def display_info(self):\n",
        "        super().display_info()\n",
        "        print(f\"Car Brand: {self.brand}\")\n",
        "\n",
        "# Second-level derived class\n",
        "class ElectricCar(Car):\n",
        "    def __init__(self, vehicle_type, brand, battery_capacity):\n",
        "        super().__init__(vehicle_type, brand)\n",
        "        self.battery = battery_capacity\n",
        "\n",
        "    def display_info(self):\n",
        "        super().display_info()\n",
        "        print(f\"Battery Capacity: {self.battery} kWh\")\n",
        "\n",
        "# Testing the classes\n",
        "if __name__ == \"__main__\":\n",
        "    e_car = ElectricCar(\"Four-wheeler\", \"Tesla\", 75)\n",
        "    e_car.display_info()\n"
      ],
      "metadata": {
        "id": "Oob4E1OlBv1U"
      },
      "execution_count": null,
      "outputs": []
    },
    {
      "cell_type": "markdown",
      "source": [
        "Q-4 Demonstrate polymorphism by creating a base class Bird with a method fly(). Create two derived classes\n",
        "Sparrow and Penguin that override the fly() method."
      ],
      "metadata": {
        "id": "OR48CzT7CGT0"
      }
    },
    {
      "cell_type": "code",
      "source": [
        "# Base class\n",
        "class Bird:\n",
        "    def fly(self):\n",
        "        print(\"Some bird is flying...\")\n",
        "\n",
        "# Derived class 1\n",
        "class Sparrow(Bird):\n",
        "    def fly(self):\n",
        "        print(\"Sparrow flies high in the sky!\")\n",
        "\n",
        "# Derived class 2\n",
        "class Penguin(Bird):\n",
        "    def fly(self):\n",
        "        print(\"Penguins cannot fly, but they swim well!\")\n",
        "\n",
        "# Function to demonstrate polymorphism\n",
        "def bird_flight(bird_obj):\n",
        "    bird_obj.fly()  # This will call the appropriate fly() method\n",
        "\n",
        "# Testing the classes\n",
        "if __name__ == \"__main__\":\n",
        "    bird1 = Sparrow()\n",
        "    bird2 = Penguin()\n",
        "\n",
        "    bird_flight(bird1)  # Outputs: Sparrow flies high in the sky!\n",
        "    bird_flight(bird2)  # Outputs: Penguins cannot fly, but they swim well!"
      ],
      "metadata": {
        "colab": {
          "base_uri": "https://localhost:8080/"
        },
        "id": "qcz234qACI0T",
        "outputId": "dd905a11-ca8a-4650-9e19-fd0bc799efa3"
      },
      "execution_count": null,
      "outputs": [
        {
          "output_type": "stream",
          "name": "stdout",
          "text": [
            "Sparrow flies high in the sky!\n",
            "Penguins cannot fly, but they swim well!\n"
          ]
        }
      ]
    },
    {
      "cell_type": "markdown",
      "source": [
        "Que 5 - Write a program to demonstrate encapsulation by creating a class BankAccount with private attributes\n",
        "balance and methods to deposit, withdraw, and check balance."
      ],
      "metadata": {
        "id": "lk0iSJeFCTlk"
      }
    },
    {
      "cell_type": "code",
      "source": [
        "class BankAccount:\n",
        "    def __init__(self, initial_balance=0):\n",
        "        # Private attribute\n",
        "        self.__balance = initial_balance\n",
        "\n",
        "    # Method to deposit money\n",
        "    def deposit(self, amount):\n",
        "        if amount > 0:\n",
        "            self.__balance += amount\n",
        "            print(f\"Deposited: ${amount}\")\n",
        "        else:\n",
        "            print(\"Deposit amount must be positive.\")\n",
        "\n",
        "    # Method to withdraw money\n",
        "    def withdraw(self, amount):\n",
        "        if 0 < amount <= self.__balance:\n",
        "            self.__balance -= amount\n",
        "            print(f\"Withdrew: ${amount}\")\n",
        "        else:\n",
        "            print(\"Insufficient funds or invalid amount.\")\n",
        "\n",
        "    # Method to check balance\n",
        "    def get_balance(self):\n",
        "        return self.__balance\n",
        "\n",
        "# Testing the class\n",
        "if __name__ == \"__main__\":\n",
        "    account = BankAccount(100)  # Starting with $100\n",
        "    account.deposit(50)\n",
        "    account.withdraw(30)\n",
        "    print(f\"Current Balance: ${account.get_balance()}\")\n",
        "\n",
        "    # Trying to access private attribute directly (will fail)\n",
        "    try:\n",
        "        print(account.__balance)\n",
        "    except AttributeError as e:\n",
        "        print(f\"Error: {e}\")\n"
      ],
      "metadata": {
        "colab": {
          "base_uri": "https://localhost:8080/"
        },
        "id": "94smkx2dCXLa",
        "outputId": "f5dfcf88-d855-4c58-d74a-0d9039e13a41"
      },
      "execution_count": null,
      "outputs": [
        {
          "output_type": "stream",
          "name": "stdout",
          "text": [
            "Deposited: $50\n",
            "Withdrew: $30\n",
            "Current Balance: $120\n",
            "Error: 'BankAccount' object has no attribute '__balance'\n"
          ]
        }
      ]
    },
    {
      "cell_type": "markdown",
      "source": [
        "Q-6 Demonstrate runtime polymorphism using a method play() in a base class Instrument. Derive classes Guitar\n",
        "and Piano that implement their own version of play()."
      ],
      "metadata": {
        "id": "uSsEHworCwq1"
      }
    },
    {
      "cell_type": "code",
      "source": [
        "# Base class\n",
        "class Instrument:\n",
        "    def play(self):\n",
        "        print(\"Instrument is being played...\")\n",
        "\n",
        "# Derived class: Guitar\n",
        "class Guitar(Instrument):\n",
        "    def play(self):\n",
        "        print(\"Strumming the guitar strings!\")\n",
        "\n",
        "# Derived class: Piano\n",
        "class Piano(Instrument):\n",
        "    def play(self):\n",
        "        print(\"Playing the piano keys!\")\n",
        "\n",
        "# Function to demonstrate runtime polymorphism\n",
        "def start_playing(instrument):\n",
        "    instrument.play()  # Calls the overridden method based on the object type\n",
        "\n",
        "# Testing the classes\n",
        "if __name__ == \"__main__\":\n",
        "    instrument1 = Guitar()\n",
        "    instrument2 = Piano()\n",
        "\n",
        "    start_playing(instrument1)  # Output: Strumming the guitar strings!\n",
        "    start_playing(instrument2)  # Output: Playing the piano keys!"
      ],
      "metadata": {
        "colab": {
          "base_uri": "https://localhost:8080/"
        },
        "id": "MrA_rVkcCztI",
        "outputId": "ba9b55b2-c51f-4d3d-c5a6-553064b918bd"
      },
      "execution_count": null,
      "outputs": [
        {
          "output_type": "stream",
          "name": "stdout",
          "text": [
            "Strumming the guitar strings!\n",
            "Playing the piano keys!\n"
          ]
        }
      ]
    },
    {
      "cell_type": "markdown",
      "source": [
        "Q-7  Create a class MathOperations with a class method add_numbers() to add two numbers and a static\n",
        "method subtract_numbers() to subtract two numbers."
      ],
      "metadata": {
        "id": "moh-mFq5C9hb"
      }
    },
    {
      "cell_type": "code",
      "source": [
        "class MathOperations:\n",
        "    # Class method to add two numbers\n",
        "    @classmethod\n",
        "    def add_numbers(cls, a, b):\n",
        "        return a + b\n",
        "\n",
        "    # Static method to subtract two numbers\n",
        "    @staticmethod\n",
        "    def subtract_numbers(a, b):\n",
        "        return a - b\n",
        "\n",
        "# Testing the methods\n",
        "if __name__ == \"__main__\":\n",
        "    sum_result = MathOperations.add_numbers(10, 5)\n",
        "    diff_result = MathOperations.subtract_numbers(10, 5)\n",
        "\n",
        "    print(f\"Sum: {sum_result}\")\n",
        "    print(f\"Difference: {diff_result}\")"
      ],
      "metadata": {
        "colab": {
          "base_uri": "https://localhost:8080/"
        },
        "id": "Ny1_KeZuDAQ9",
        "outputId": "b7d6b7de-5251-458d-db20-17cb661aea92"
      },
      "execution_count": null,
      "outputs": [
        {
          "output_type": "stream",
          "name": "stdout",
          "text": [
            "Sum: 15\n",
            "Difference: 5\n"
          ]
        }
      ]
    },
    {
      "cell_type": "markdown",
      "source": [
        "Q-8  Implement a class Person with a class method to count the total number of persons created."
      ],
      "metadata": {
        "id": "L6qnqIdrDEXJ"
      }
    },
    {
      "cell_type": "code",
      "source": [
        "class Person:\n",
        "    # Class variable to store count of instances\n",
        "    __count = 0\n",
        "\n",
        "    def __init__(self, name):\n",
        "        self.name = name\n",
        "        Person.__count += 1\n",
        "\n",
        "    # Class method to get total number of persons created\n",
        "    @classmethod\n",
        "    def total_persons(cls):\n",
        "        return cls.__count\n",
        "\n",
        "# Testing the class\n",
        "if __name__ == \"__main__\":\n",
        "    p1 = Person(\"Alice\")\n",
        "    p2 = Person(\"Bob\")\n",
        "    p3 = Person(\"Charlie\")\n",
        "\n",
        "    print(f\"Total Persons Created: {Person.total_persons()}\")"
      ],
      "metadata": {
        "colab": {
          "base_uri": "https://localhost:8080/"
        },
        "id": "_d4qChicDJSh",
        "outputId": "808faad5-20b5-4382-c5da-5e162be22c50"
      },
      "execution_count": null,
      "outputs": [
        {
          "output_type": "stream",
          "name": "stdout",
          "text": [
            "Total Persons Created: 3\n"
          ]
        }
      ]
    },
    {
      "cell_type": "markdown",
      "source": [
        "\"Q-9 Write a class Fraction with attributes numerator and denominator. Override the str method to display the\n",
        "fraction as \"numerator/denominator\"."
      ],
      "metadata": {
        "id": "_sY8OkPNDPip"
      }
    },
    {
      "cell_type": "code",
      "source": [
        "class Fraction:\n",
        "    def __init__(self, numerator, denominator):\n",
        "        self.numerator = numerator\n",
        "        if denominator == 0:\n",
        "            raise ValueError(\"Denominator cannot be zero.\")\n",
        "        self.denominator = denominator\n",
        "\n",
        "    # Override __str__ method to return \"numerator/denominator\"\n",
        "    def __str__(self):\n",
        "        return f\"{self.numerator}/{self.denominator}\"\n",
        "\n",
        "# Testing the class\n",
        "if __name__ == \"__main__\":\n",
        "    f1 = Fraction(3, 4)\n",
        "    f2 = Fraction(7, 1)\n",
        "\n",
        "    print(f\"Fraction 1: {f1}\")  # Output: 3/4\n",
        "    print(f\"Fraction 2: {f2}\")  # Output: 7/1\n"
      ],
      "metadata": {
        "colab": {
          "base_uri": "https://localhost:8080/"
        },
        "id": "6ba06TTWDZeP",
        "outputId": "4cb88e98-0843-4ee9-90bc-b8a4f978a6c3"
      },
      "execution_count": null,
      "outputs": [
        {
          "output_type": "stream",
          "name": "stdout",
          "text": [
            "Fraction 1: 3/4\n",
            "Fraction 2: 7/1\n"
          ]
        }
      ]
    },
    {
      "cell_type": "markdown",
      "source": [
        "Q10 . Demonstrate operator overloading by creating a class Vector and overriding the add method to add two\n",
        "vectors."
      ],
      "metadata": {
        "id": "usG_es0LDbe1"
      }
    },
    {
      "cell_type": "code",
      "source": [
        "class Vector:\n",
        "    def __init__(self, x, y):\n",
        "        self.x = x\n",
        "        self.y = y\n",
        "\n",
        "    # Overload the + operator\n",
        "    def __add__(self, other):\n",
        "        if isinstance(other, Vector):\n",
        "            return Vector(self.x + other.x, self.y + other.y)\n",
        "        return NotImplemented\n",
        "\n",
        "    # Override __str__ for nice output\n",
        "    def __str__(self):\n",
        "        return f\"Vector({self.x}, {self.y})\"\n",
        "\n",
        "# Testing the class\n",
        "if __name__ == \"__main__\":\n",
        "    v1 = Vector(2, 3)\n",
        "    v2 = Vector(4, 1)\n",
        "    v3 = v1 + v2  # Uses the __add__ method\n",
        "\n",
        "    print(f\"Vector 1: {v1}\")\n",
        "    print(f\"Vector 2: {v2}\")\n",
        "    print(f\"Sum: {v3}\")  # Output: Vector(6, 4)"
      ],
      "metadata": {
        "colab": {
          "base_uri": "https://localhost:8080/"
        },
        "id": "vlmTtuxtDpqk",
        "outputId": "f69fe3fc-e78c-43c5-97e7-eeb53b375437"
      },
      "execution_count": null,
      "outputs": [
        {
          "output_type": "stream",
          "name": "stdout",
          "text": [
            "Vector 1: Vector(2, 3)\n",
            "Vector 2: Vector(4, 1)\n",
            "Sum: Vector(6, 4)\n"
          ]
        }
      ]
    },
    {
      "cell_type": "markdown",
      "source": [
        "Q-11  Create a class Person with attributes name and age. Add a method greet() that prints \"Hello, my name is\n",
        "{name} and I am {age} years old.\""
      ],
      "metadata": {
        "id": "235BfAEoDv02"
      }
    },
    {
      "cell_type": "code",
      "source": [
        "class Person:\n",
        "    def __init__(self, name, age):\n",
        "        self.name = name\n",
        "        self.age = age\n",
        "\n",
        "    def greet(self):\n",
        "        print(f\"Hello, my name is {self.name} and I am {self.age} years old.\")\n",
        "\n",
        "# Testing the class\n",
        "if __name__ == \"__main__\":\n",
        "    p1 = Person(\"Alice\", 30)\n",
        "    p2 = Person(\"Bob\", 25)\n",
        "\n",
        "    p1.greet()  # Output: Hello, my name is Alice and I am 30 years old.\n",
        "    p2.greet()  # Output: Hello, my name is Bob and I am 25 years old."
      ],
      "metadata": {
        "colab": {
          "base_uri": "https://localhost:8080/"
        },
        "id": "zmfXK8OoEH0x",
        "outputId": "bae8e8f0-7314-4b23-adfc-5d1268d767a6"
      },
      "execution_count": null,
      "outputs": [
        {
          "output_type": "stream",
          "name": "stdout",
          "text": [
            "Hello, my name is Alice and I am 30 years old.\n",
            "Hello, my name is Bob and I am 25 years old.\n"
          ]
        }
      ]
    },
    {
      "cell_type": "markdown",
      "source": [
        "Q-12 Implement a class Student with attributes name and grades. Create a method average_grade() to compute\n",
        "the average of the grades."
      ],
      "metadata": {
        "id": "d6V7x2cTETWm"
      }
    },
    {
      "cell_type": "code",
      "source": [
        "class Student:\n",
        "    def __init__(self, name, grades):\n",
        "        self.name = name\n",
        "        self.grades = grades  # Expecting a list of numbers\n",
        "\n",
        "    def average_grade(self):\n",
        "        if not self.grades:\n",
        "            return 0  # Avoid division by zero\n",
        "        return sum(self.grades) / len(self.grades)\n",
        "\n",
        "# Testing the class\n",
        "if __name__ == \"__main__\":\n",
        "    student1 = Student(\"Alice\", [85, 90, 78])\n",
        "    student2 = Student(\"Bob\", [72, 88, 95, 100])\n",
        "\n",
        "    print(f\"{student1.name}'s Average Grade: {student1.average_grade():.2f}\")\n",
        "    print(f\"{student2.name}'s Average Grade: {student2.average_grade():.2f}\")"
      ],
      "metadata": {
        "colab": {
          "base_uri": "https://localhost:8080/"
        },
        "id": "U4hbhA0mEWYd",
        "outputId": "263e85d1-3f62-4276-f6a5-f39798a329b4"
      },
      "execution_count": null,
      "outputs": [
        {
          "output_type": "stream",
          "name": "stdout",
          "text": [
            "Alice's Average Grade: 84.33\n",
            "Bob's Average Grade: 88.75\n"
          ]
        }
      ]
    },
    {
      "cell_type": "markdown",
      "source": [
        "Q-13 Create a class Rectangle with methods set_dimensions() to set the dimensions and area() to calculate the\n",
        "area."
      ],
      "metadata": {
        "id": "l9EuZhxWEezp"
      }
    },
    {
      "cell_type": "code",
      "source": [
        "class Rectangle:\n",
        "    def __init__(self):\n",
        "        self.width = 0\n",
        "        self.height = 0\n",
        "\n",
        "    def set_dimensions(self, width, height):\n",
        "        self.width = width\n",
        "        self.height = height\n",
        "\n",
        "    def area(self):\n",
        "        return self.width * self.height\n",
        "\n",
        "# Testing the class\n",
        "if __name__ == \"__main__\":\n",
        "    rect = Rectangle()\n",
        "    rect.set_dimensions(5, 10)\n",
        "    print(f\"Area of Rectangle: {rect.area()}\")"
      ],
      "metadata": {
        "colab": {
          "base_uri": "https://localhost:8080/"
        },
        "id": "fDRujsbfEilR",
        "outputId": "d814e31d-a758-415c-85bf-debc4cee23b6"
      },
      "execution_count": null,
      "outputs": [
        {
          "output_type": "stream",
          "name": "stdout",
          "text": [
            "Area of Rectangle: 50\n"
          ]
        }
      ]
    },
    {
      "cell_type": "markdown",
      "source": [
        "Q-14 Create a class Employee with a method calculate_salary() that computes the salary based on hours worked\n",
        "and hourly rate. Create a derived class Manager that adds a bonus to the salary."
      ],
      "metadata": {
        "id": "8zDoc34FEoAn"
      }
    },
    {
      "cell_type": "code",
      "source": [
        "# Base class\n",
        "class Employee:\n",
        "    def __init__(self, name, hours_worked, hourly_rate):\n",
        "        self.name = name\n",
        "        self.hours_worked = hours_worked\n",
        "        self.hourly_rate = hourly_rate\n",
        "\n",
        "    def calculate_salary(self):\n",
        "        return self.hours_worked * self.hourly_rate\n",
        "\n",
        "# Derived class\n",
        "class Manager(Employee):\n",
        "    def __init__(self, name, hours_worked, hourly_rate, bonus):\n",
        "        super().__init__(name, hours_worked, hourly_rate)\n",
        "        self.bonus = bonus\n",
        "\n",
        "    def calculate_salary(self):\n",
        "        base_salary = super().calculate_salary()\n",
        "        return base_salary + self.bonus\n",
        "\n",
        "# Testing the classes\n",
        "if __name__ == \"__main__\":\n",
        "    emp = Employee(\"Alice\", 40, 20)\n",
        "    mgr = Manager(\"Bob\", 40, 20, 500)\n",
        "\n",
        "    print(f\"{emp.name}'s Salary: ${emp.calculate_salary()}\")\n",
        "    print(f\"{mgr.name}'s Salary (with bonus): ${mgr.calculate_salary()}\")"
      ],
      "metadata": {
        "colab": {
          "base_uri": "https://localhost:8080/"
        },
        "id": "BgY35wCpEtNm",
        "outputId": "5177d87e-a132-4af5-c6dd-0cf495e0d622"
      },
      "execution_count": null,
      "outputs": [
        {
          "output_type": "stream",
          "name": "stdout",
          "text": [
            "Alice's Salary: $800\n",
            "Bob's Salary (with bonus): $1300\n"
          ]
        }
      ]
    },
    {
      "cell_type": "markdown",
      "source": [
        "Q-15 . Create a class Product with attributes name, price, and quantity. Implement a method total_price() that\n",
        "calculates the total price of the product."
      ],
      "metadata": {
        "id": "ZhLf0qpuE4zC"
      }
    },
    {
      "cell_type": "code",
      "source": [
        "class Product:\n",
        "    def __init__(self, name, price, quantity):\n",
        "        self.name = name\n",
        "        self.price = price\n",
        "        self.quantity = quantity\n",
        "\n",
        "    def total_price(self):\n",
        "        return self.price * self.quantity\n",
        "\n",
        "# Testing the class\n",
        "if __name__ == \"__main__\":\n",
        "    product = Product(\"Laptop\", 999.99, 3)\n",
        "    print(f\"Total price of {product.name}: ${product.total_price():.2f}\")"
      ],
      "metadata": {
        "colab": {
          "base_uri": "https://localhost:8080/"
        },
        "id": "6qxd_DYPFA03",
        "outputId": "e74aed98-34f9-4723-b3d4-2bc101191108"
      },
      "execution_count": null,
      "outputs": [
        {
          "output_type": "stream",
          "name": "stdout",
          "text": [
            "Total price of Laptop: $2999.97\n"
          ]
        }
      ]
    },
    {
      "cell_type": "markdown",
      "source": [
        "Q-16 Create a class Animal with an abstract method sound(). Create two derived classes Cow and Sheep that\n",
        "implement the sound() method."
      ],
      "metadata": {
        "id": "RCgTp0XtFF6I"
      }
    },
    {
      "cell_type": "code",
      "source": [
        "from abc import ABC, abstractmethod\n",
        "\n",
        "# Abstract base class\n",
        "class Animal(ABC):\n",
        "    @abstractmethod\n",
        "    def sound(self):\n",
        "        pass\n",
        "\n",
        "# Derived class: Cow\n",
        "class Cow(Animal):\n",
        "    def sound(self):\n",
        "        return \"Moo\"\n",
        "\n",
        "# Derived class: Sheep\n",
        "class Sheep(Animal):\n",
        "    def sound(self):\n",
        "        return \"Baa\"\n",
        "\n",
        "# Testing the classes\n",
        "if __name__ == \"__main__\":\n",
        "    cow = Cow()\n",
        "    sheep = Sheep()\n",
        "\n",
        "    print(f\"The cow says: {cow.sound()}\")\n",
        "    print(f\"The sheep says: {sheep.sound()}\")"
      ],
      "metadata": {
        "colab": {
          "base_uri": "https://localhost:8080/"
        },
        "id": "a8RlNiihFJcl",
        "outputId": "32c48b5a-7065-4014-e6fe-ce4e470abbaa"
      },
      "execution_count": null,
      "outputs": [
        {
          "output_type": "stream",
          "name": "stdout",
          "text": [
            "The cow says: Moo\n",
            "The sheep says: Baa\n"
          ]
        }
      ]
    },
    {
      "cell_type": "markdown",
      "source": [
        "Q17- Create a class Book with attributes title, author, and year_published. Add a method get_book_info() that\n",
        "returns a formatted string with the book's details."
      ],
      "metadata": {
        "id": "JUr6OT1jFPrm"
      }
    },
    {
      "cell_type": "code",
      "source": [
        "class Book:\n",
        "    def __init__(self, title, author, year_published):\n",
        "        self.title = title\n",
        "        self.author = author\n",
        "        self.year_published = year_published\n",
        "\n",
        "    def get_book_info(self):\n",
        "        return f\"\\\"{self.title}\\\" by {self.author} (Published in {self.year_published})\"\n",
        "\n",
        "# Testing the class\n",
        "if __name__ == \"__main__\":\n",
        "    book1 = Book(\"1984\", \"George Orwell\", 1949)\n",
        "    book2 = Book(\"To Kill a Mockingbird\", \"Harper Lee\", 1960)\n",
        "\n",
        "    print(book1.get_book_info())\n",
        "    print(book2.get_book_info())"
      ],
      "metadata": {
        "colab": {
          "base_uri": "https://localhost:8080/"
        },
        "id": "2CbnHsUqFaVj",
        "outputId": "8ba6cc67-3509-41d9-f580-46685d806ae9"
      },
      "execution_count": null,
      "outputs": [
        {
          "output_type": "stream",
          "name": "stdout",
          "text": [
            "\"1984\" by George Orwell (Published in 1949)\n",
            "\"To Kill a Mockingbird\" by Harper Lee (Published in 1960)\n"
          ]
        }
      ]
    },
    {
      "cell_type": "markdown",
      "source": [
        "Q-18 Create a class House with attributes address and price. Create a derived class Mansion that adds an\n",
        "attribute number_of_rooms."
      ],
      "metadata": {
        "id": "e1KV4asgFa5p"
      }
    },
    {
      "cell_type": "code",
      "source": [
        "# Base class\n",
        "class House:\n",
        "    def __init__(self, address, price):\n",
        "        self.address = address\n",
        "        self.price = price\n",
        "\n",
        "    def display_info(self):\n",
        "        return f\"Address: {self.address}, Price: ${self.price}\"\n",
        "\n",
        "# Derived class\n",
        "class Mansion(House):\n",
        "    def __init__(self, address, price, number_of_rooms):\n",
        "        super().__init__(address, price)\n",
        "        self.number_of_rooms = number_of_rooms\n",
        "\n",
        "    def display_info(self):\n",
        "        base_info = super().display_info()\n",
        "        return f\"{base_info}, Rooms: {self.number_of_rooms}\"\n",
        "\n",
        "# Testing the classes\n",
        "if __name__ == \"__main__\":\n",
        "    house = House(\"123 Main St\", 250000)\n",
        "    mansion = Mansion(\"456 Luxury Lane\", 1500000, 12)\n",
        "\n",
        "    print(house.display_info())    # Output: Address: 123 Main St, Price: $250000\n",
        "    print(mansion.display_info())  # Output: Address: 456 Luxury Lane, Price: $1500000, Rooms: 12\n"
      ],
      "metadata": {
        "colab": {
          "base_uri": "https://localhost:8080/"
        },
        "id": "81AHZsPVFgpP",
        "outputId": "896fb6e8-64ca-48cb-cdf9-7ce2fc89203d"
      },
      "execution_count": null,
      "outputs": [
        {
          "output_type": "stream",
          "name": "stdout",
          "text": [
            "Address: 123 Main St, Price: $250000\n",
            "Address: 456 Luxury Lane, Price: $1500000, Rooms: 12\n"
          ]
        }
      ]
    }
  ]
}